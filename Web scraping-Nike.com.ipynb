{
 "cells": [
  {
   "cell_type": "code",
   "execution_count": 51,
   "metadata": {},
   "outputs": [],
   "source": [
    "import requests\n",
    "from bs4 import BeautifulSoup"
   ]
  },
  {
   "cell_type": "code",
   "execution_count": 52,
   "metadata": {},
   "outputs": [],
   "source": [
    "baseUrl= \"https://www.nike.com/\""
   ]
  },
  {
   "cell_type": "code",
   "execution_count": 53,
   "metadata": {},
   "outputs": [],
   "source": [
    "headers={\n",
    "    'User-Agent':'Mozilla/5.0 (Windows NT 10.0; Win64; x64) AppleWebKit/537.36 (KHTML, like Gecko) Chrome/86.0.4240.198 Safari/537.36'\n",
    "}"
   ]
  },
  {
   "cell_type": "code",
   "execution_count": 54,
   "metadata": {},
   "outputs": [],
   "source": [
    "r=requests.get(\"https://www.nike.com/w/womens-lifestyle-shoes-13jrmz5e1x6zy7ok\")"
   ]
  },
  {
   "cell_type": "code",
   "execution_count": 55,
   "metadata": {},
   "outputs": [],
   "source": [
    "soup= BeautifulSoup(r.content,\"lxml\")"
   ]
  },
  {
   "cell_type": "code",
   "execution_count": 56,
   "metadata": {},
   "outputs": [],
   "source": [
    "productlist=soup.find_all(\"div\",class_=\"product-grid__items css-yj4gxb css-r6is66 css-1tvazw1 css-1oud6ob\")"
   ]
  },
  {
   "cell_type": "code",
   "execution_count": 59,
   "metadata": {},
   "outputs": [
    {
     "name": "stdout",
     "output_type": "stream",
     "text": [
      "[<div class=\"product-grid__items css-yj4gxb css-r6is66 css-1tvazw1 css-1oud6ob\"><div class=\"content-card css-lv5hmb css-z5nr6i css-11ziap1 css-zk7jxt css-dpr2cn product-grid__card \"><a class=\"content-card__link\" href=\"https://www.nike.com/w/cyber-monday-95xas\"><div class=\"image-loader css-zrrhrw content-card__image css-1c7vt2h \"><picture><source media=\"0\" srcset=\"\"/><img alt=\"\" loading=\"lazy\" src=\"data:image/gif;base64,R0lGODlhAQABAIAAAAAAAP///yH5BAEAAAAALAAAAAABAAEAAAIBRAA7\"/></picture></div></a></div><div class=\"product-card css-1ikfoht css-z5nr6i css-11ziap1 css-zk7jxt css-dpr2cn product-grid__card \" data-product-position=\"2\"><div class=\"product-card__body\" data-el-type=\"Card\"><figure><a class=\"product-card__link-overlay\" href=\"https://www.nike.com/t/air-max-270-womens-shoe-Pgb94t/AH6789-601\">Nike Air Max 270</a><a aria-label=\"Nike Air Max 270\" class=\"product-card__img-link-overlay\" data-el-type=\"Hero\" href=\"https://www.nike.com/t/air-max-270-womens-shoe-Pgb94t/AH6789-601\"><div class=\"image-loader css-zrrhrw product-card__hero-image \"><picture><source media=\"0\" srcset=\"\"/><source media=\"1\" srcset=\"\"/><source media=\"2\" srcset=\"\"/><img alt=\"Nike Air Max 270 Women's Shoe\" loading=\"lazy\" src=\"data:image/gif;base64,R0lGODlhAQABAIAAAAAAAP///yH5BAEAAAAALAAAAAABAAEAAAIBRAA7\"/></picture></div></a><div class=\"product-card__info disable-animations\"><div class=\"\"><div class=\"product-card__titles\"><div class=\"product-card__title\" id=\"Nike Air Max 270\">Nike Air Max 270</div><div class=\"product-card__subtitle\">Women's Shoe</div></div></div><div class=\"product-card__count-wrapper false undefined\"><div class=\"product-card__count-item\"><button class=\"product-card__colorway-btn\" type=\"button\"><div aria-label=\"Available in 6 Colors\" class=\"product-card__product-count\"><span>6 Colors</span></div></button></div></div><div class=\"product-card__animation_wrapper\"><div class=\"product-card__price-wrapper\"><div class=\"product-card__price\"><div class=\"product-price__wrapper\"><div class=\"product-price css-11s12ax is--current-price\" data-test=\"product-price\">$150</div></div></div></div></div></div></figure></div></div><div class=\"product-card css-1ikfoht css-z5nr6i css-11ziap1 css-zk7jxt css-dpr2cn product-grid__card \" data-product-position=\"3\"><div class=\"product-card__body\" data-el-type=\"Card\"><figure><a class=\"product-card__link-overlay\" href=\"https://www.nike.com/t/air-force-1-shadow-womens-shoe-kTgn9J/CU8591-100\">Nike Air Force 1 Shadow</a><a aria-label=\"Nike Air Force 1 Shadow\" class=\"product-card__img-link-overlay\" data-el-type=\"Hero\" href=\"https://www.nike.com/t/air-force-1-shadow-womens-shoe-kTgn9J/CU8591-100\"><div class=\"image-loader css-zrrhrw product-card__hero-image \"><picture><source media=\"0\" srcset=\"\"/><source media=\"1\" srcset=\"\"/><source media=\"2\" srcset=\"\"/><img alt=\"Nike Air Force 1 Shadow Women's Shoe\" loading=\"lazy\" src=\"data:image/gif;base64,R0lGODlhAQABAIAAAAAAAP///yH5BAEAAAAALAAAAAABAAEAAAIBRAA7\"/></picture></div></a><div class=\"product-card__info disable-animations\"><div class=\"\"><div class=\"product-card__titles\"><div class=\"product-card__title\" id=\"Nike Air Force 1 Shadow\">Nike Air Force 1 Shadow</div><div class=\"product-card__subtitle\">Women's Shoe</div></div></div><div class=\"product-card__count-wrapper false undefined\"><div class=\"product-card__count-item\"><button class=\"product-card__colorway-btn\" type=\"button\"><div aria-label=\"Available in 6 Colors\" class=\"product-card__product-count\"><span>6 Colors</span></div></button></div></div><div class=\"product-card__animation_wrapper\"><div class=\"product-card__price-wrapper\"><div class=\"product-card__price\"><div class=\"product-price__wrapper\"><div class=\"product-price css-11s12ax is--current-price\" data-test=\"product-price\">$110</div></div></div></div></div></div></figure></div></div><div class=\"product-card css-1ikfoht css-z5nr6i css-11ziap1 css-zk7jxt css-dpr2cn product-grid__card \" data-product-position=\"4\"><div class=\"product-card__body\" data-el-type=\"Card\"><figure><a class=\"product-card__link-overlay\" href=\"https://www.nike.com/t/air-force-1-shadow-se-womens-shoe-sWkWmK/CT1985-500\">Nike Air Force 1 Shadow SE</a><a aria-label=\"Nike Air Force 1 Shadow SE\" class=\"product-card__img-link-overlay\" data-el-type=\"Hero\" href=\"https://www.nike.com/t/air-force-1-shadow-se-womens-shoe-sWkWmK/CT1985-500\"><div class=\"image-loader css-zrrhrw product-card__hero-image \"><picture><source media=\"0\" srcset=\"\"/><source media=\"1\" srcset=\"\"/><source media=\"2\" srcset=\"\"/><img alt=\"Nike Air Force 1 Shadow SE Women's Shoe\" loading=\"lazy\" src=\"data:image/gif;base64,R0lGODlhAQABAIAAAAAAAP///yH5BAEAAAAALAAAAAABAAEAAAIBRAA7\"/></picture></div></a><div class=\"product-card__info disable-animations\"><div class=\"\"><div class=\"product-card__titles\"><div class=\"product-card__title\" id=\"Nike Air Force 1 Shadow SE\">Nike Air Force 1 Shadow SE</div><div class=\"product-card__subtitle\">Women's Shoe</div></div></div><div class=\"product-card__count-wrapper false undefined\"><div class=\"product-card__count-item\"><button class=\"product-card__colorway-btn\" type=\"button\"><div aria-label=\"Available in 2 Colors\" class=\"product-card__product-count\"><span>2 Colors</span></div></button></div></div><div class=\"product-card__animation_wrapper\"><div class=\"product-card__price-wrapper\"><div class=\"product-card__price\"><div class=\"product-price__wrapper\"><div class=\"product-price css-11s12ax is--current-price\" data-test=\"product-price\">$110</div></div></div></div></div></div></figure></div></div><div class=\"product-card css-1ikfoht css-z5nr6i css-11ziap1 css-zk7jxt css-dpr2cn product-grid__card \" data-product-position=\"5\"><div class=\"product-card__body\" data-el-type=\"Card\"><figure><a class=\"product-card__link-overlay\" href=\"https://www.nike.com/t/air-force-1-07-womens-shoe-KyTwDPGG/315115-112\">Nike Air Force 1 '07</a><a aria-label=\"Nike Air Force 1 '07\" class=\"product-card__img-link-overlay\" data-el-type=\"Hero\" href=\"https://www.nike.com/t/air-force-1-07-womens-shoe-KyTwDPGG/315115-112\"><div class=\"image-loader css-zrrhrw product-card__hero-image \"><picture><source media=\"0\" srcset=\"\"/><source media=\"1\" srcset=\"\"/><source media=\"2\" srcset=\"\"/><img alt=\"Nike Air Force 1 '07 Women's Shoe\" loading=\"lazy\" src=\"data:image/gif;base64,R0lGODlhAQABAIAAAAAAAP///yH5BAEAAAAALAAAAAABAAEAAAIBRAA7\"/></picture></div></a><div class=\"product-card__info disable-animations\"><div class=\"\"><div class=\"product-card__titles\"><div class=\"product-card__title\" id=\"Nike Air Force 1 '07\">Nike Air Force 1 '07</div><div class=\"product-card__subtitle\">Women's Shoe</div></div></div><div class=\"product-card__count-wrapper false undefined\"><div class=\"product-card__count-item\"><button class=\"product-card__colorway-btn\" type=\"button\"><div aria-label=\"Available in 2 Colors\" class=\"product-card__product-count\"><span>2 Colors</span></div></button></div></div><div class=\"product-card__animation_wrapper\"><div class=\"product-card__price-wrapper\"><div class=\"product-card__price\"><div class=\"product-price__wrapper\"><div class=\"product-price css-11s12ax is--current-price\" data-test=\"product-price\">$90</div></div></div></div></div></div></figure></div></div><div class=\"product-card css-1ikfoht css-z5nr6i css-11ziap1 css-zk7jxt css-dpr2cn product-grid__card \" data-product-position=\"6\"><div class=\"product-card__body\" data-el-type=\"Card\"><figure><a class=\"product-card__link-overlay\" href=\"https://www.nike.com/t/air-force-1-pixel-womens-shoe-gh10GN/CK6649-100\">Nike Air Force 1 Pixel</a><a aria-label=\"Nike Air Force 1 Pixel\" class=\"product-card__img-link-overlay\" data-el-type=\"Hero\" href=\"https://www.nike.com/t/air-force-1-pixel-womens-shoe-gh10GN/CK6649-100\"><div class=\"image-loader css-zrrhrw product-card__hero-image \"><picture><source media=\"0\" srcset=\"\"/><source media=\"1\" srcset=\"\"/><source media=\"2\" srcset=\"\"/><img alt=\"Nike Air Force 1 Pixel Women's Shoe\" loading=\"lazy\" src=\"data:image/gif;base64,R0lGODlhAQABAIAAAAAAAP///yH5BAEAAAAALAAAAAABAAEAAAIBRAA7\"/></picture></div></a><div class=\"product-card__info disable-animations\"><div class=\"\"><div class=\"product-card__titles\"><div class=\"product-card__title\" id=\"Nike Air Force 1 Pixel\">Nike Air Force 1 Pixel</div><div class=\"product-card__subtitle\">Women's Shoe</div></div></div><div class=\"product-card__count-wrapper false undefined\"><div class=\"product-card__count-item\"><button class=\"product-card__colorway-btn\" type=\"button\"><div aria-label=\"Available in 3 Colors\" class=\"product-card__product-count\"><span>3 Colors</span></div></button></div></div><div class=\"product-card__animation_wrapper\"><div class=\"product-card__price-wrapper\"><div class=\"product-card__price\"><div class=\"product-price__wrapper\"><div class=\"product-price css-11s12ax is--current-price\" data-test=\"product-price\">$100</div></div></div></div></div></div></figure></div></div><div class=\"product-card css-1ikfoht css-z5nr6i css-11ziap1 css-zk7jxt css-dpr2cn product-grid__card \" data-product-position=\"7\"><div class=\"product-card__body\" data-el-type=\"Card\"><figure><a class=\"product-card__link-overlay\" href=\"https://www.nike.com/t/air-max-270-react-se-womens-shoe-trW1vK/CK6929-100\">Nike Air Max 270 React SE</a><a aria-label=\"Nike Air Max 270 React SE\" class=\"product-card__img-link-overlay\" data-el-type=\"Hero\" href=\"https://www.nike.com/t/air-max-270-react-se-womens-shoe-trW1vK/CK6929-100\"><div class=\"image-loader css-zrrhrw product-card__hero-image \"><picture><source media=\"0\" srcset=\"\"/><source media=\"1\" srcset=\"\"/><source media=\"2\" srcset=\"\"/><img alt=\"Nike Air Max 270 React SE Women's Shoe\" loading=\"lazy\" src=\"data:image/gif;base64,R0lGODlhAQABAIAAAAAAAP///yH5BAEAAAAALAAAAAABAAEAAAIBRAA7\"/></picture></div></a><div class=\"product-card__info disable-animations\"><div class=\"\"><div class=\"product-card__titles\"><div class=\"product-card__title\" id=\"Nike Air Max 270 React SE\">Nike Air Max 270 React SE</div><div class=\"product-card__subtitle\">Women's Shoe</div></div></div><div class=\"product-card__count-wrapper false undefined\"><div class=\"product-card__count-item\"><button class=\"product-card__colorway-btn\" type=\"button\"><div aria-label=\"Available in 17 Colors\" class=\"product-card__product-count\"><span>17 Colors</span></div></button></div></div><div class=\"product-card__animation_wrapper\"><div class=\"product-card__price-wrapper\"><div class=\"product-card__price\"><div class=\"product-price__wrapper\"><div class=\"product-price is--current-price css-s56yt7\" data-test=\"product-price-reduced\">$108.97</div><div class=\"product-price css-1h0t5hy\" data-test=\"product-price\">$170</div></div></div></div></div></div></figure></div></div><div class=\"product-card css-1ikfoht css-z5nr6i css-11ziap1 css-zk7jxt css-dpr2cn product-grid__card \" data-product-position=\"8\"><div class=\"product-card__body\" data-el-type=\"Card\"><figure><a class=\"product-card__link-overlay\" href=\"https://www.nike.com/t/air-max-verona-womens-shoe-JF64LJ/CU7904-100\">Nike Air Max Verona</a><a aria-label=\"Nike Air Max Verona\" class=\"product-card__img-link-overlay\" data-el-type=\"Hero\" href=\"https://www.nike.com/t/air-max-verona-womens-shoe-JF64LJ/CU7904-100\"><div class=\"image-loader css-zrrhrw product-card__hero-image \"><picture><source media=\"0\" srcset=\"\"/><source media=\"1\" srcset=\"\"/><source media=\"2\" srcset=\"\"/><img alt=\"Nike Air Max Verona Women's Shoe\" loading=\"lazy\" src=\"data:image/gif;base64,R0lGODlhAQABAIAAAAAAAP///yH5BAEAAAAALAAAAAABAAEAAAIBRAA7\"/></picture></div></a><div class=\"product-card__info disable-animations\"><div class=\"\"><div class=\"product-card__titles\"><div class=\"product-card__title\" id=\"Nike Air Max Verona\">Nike Air Max Verona</div><div class=\"product-card__subtitle\">Women's Shoe</div></div></div><div class=\"product-card__count-wrapper false undefined\"><div class=\"product-card__count-item\"><button class=\"product-card__colorway-btn\" type=\"button\"><div aria-label=\"Available in 14 Colors\" class=\"product-card__product-count\"><span>14 Colors</span></div></button></div></div><div class=\"product-card__animation_wrapper\"><div class=\"product-card__price-wrapper\"><div class=\"product-card__price\"><div class=\"product-price__wrapper\"><div class=\"product-price is--current-price css-s56yt7\" data-test=\"product-price-reduced\">$83.97</div><div class=\"product-price css-1h0t5hy\" data-test=\"product-price\">$130</div></div></div></div></div></div></figure></div></div><div class=\"product-card css-1ikfoht css-z5nr6i css-11ziap1 css-zk7jxt css-dpr2cn product-grid__card \" data-product-position=\"9\"><div class=\"product-card__body\" data-el-type=\"Card\"><figure><a class=\"product-card__link-overlay\" href=\"https://www.nike.com/t/vista-lite-womens-shoe-f347DR/CI0905-001\">Nike Vista Lite</a><a aria-label=\"Nike Vista Lite\" class=\"product-card__img-link-overlay\" data-el-type=\"Hero\" href=\"https://www.nike.com/t/vista-lite-womens-shoe-f347DR/CI0905-001\"><div class=\"image-loader css-zrrhrw product-card__hero-image \"><picture><source media=\"0\" srcset=\"\"/><source media=\"1\" srcset=\"\"/><source media=\"2\" srcset=\"\"/><img alt=\"Nike Vista Lite Women's Shoe\" loading=\"lazy\" src=\"data:image/gif;base64,R0lGODlhAQABAIAAAAAAAP///yH5BAEAAAAALAAAAAABAAEAAAIBRAA7\"/></picture></div></a><div class=\"product-card__info disable-animations\"><div class=\"\"><div class=\"product-card__titles\"><div class=\"product-card__title\" id=\"Nike Vista Lite\">Nike Vista Lite</div><div class=\"product-card__subtitle\">Women's Shoe</div></div></div><div class=\"product-card__count-wrapper false undefined\"><div class=\"product-card__count-item\"><button class=\"product-card__colorway-btn\" type=\"button\"><div aria-label=\"Available in 10 Colors\" class=\"product-card__product-count\"><span>10 Colors</span></div></button></div></div><div class=\"product-card__animation_wrapper\"><div class=\"product-card__price-wrapper\"><div class=\"product-card__price\"><div class=\"product-price__wrapper\"><div class=\"product-price is--current-price css-s56yt7\" data-test=\"product-price-reduced\">$59.97</div><div class=\"product-price css-1h0t5hy\" data-test=\"product-price\">$100</div></div></div></div></div></div></figure></div></div><div class=\"product-card css-1ikfoht css-z5nr6i css-11ziap1 css-zk7jxt css-dpr2cn product-grid__card \" data-product-position=\"10\"><div class=\"product-card__body\" data-el-type=\"Card\"><figure><a class=\"product-card__link-overlay\" href=\"https://www.nike.com/t/air-force-1-sp-womens-shoe-CsrVcC/CQ6566-001\">Nike Air Force 1 SP</a><a aria-label=\"Nike Air Force 1 SP\" class=\"product-card__img-link-overlay\" data-el-type=\"Hero\" href=\"https://www.nike.com/t/air-force-1-sp-womens-shoe-CsrVcC/CQ6566-001\"><div class=\"image-loader css-zrrhrw product-card__hero-image \"><picture><source media=\"0\" srcset=\"\"/><source media=\"1\" srcset=\"\"/><source media=\"2\" srcset=\"\"/><img alt=\"Nike Air Force 1 SP Women's Shoe\" loading=\"lazy\" src=\"data:image/gif;base64,R0lGODlhAQABAIAAAAAAAP///yH5BAEAAAAALAAAAAABAAEAAAIBRAA7\"/></picture></div></a><div class=\"product-card__info disable-animations\"><div class=\"\"><div class=\"product-card__titles\"><div class=\"product-card__title\" id=\"Nike Air Force 1 SP\">Nike Air Force 1 SP</div><div class=\"product-card__subtitle\">Women's Shoe</div></div></div><div class=\"product-card__count-wrapper false undefined\"><div class=\"product-card__count-item\"><button class=\"product-card__colorway-btn\" type=\"button\"><div aria-label=\"Available in 3 Colors\" class=\"product-card__product-count\"><span>3 Colors</span></div></button></div></div><div class=\"product-card__animation_wrapper\"><div class=\"product-card__price-wrapper\"><div class=\"product-card__price\"><div class=\"product-price__wrapper\"><div class=\"product-price is--current-price css-s56yt7\" data-test=\"product-price-reduced\">$58.97</div><div class=\"product-price css-1h0t5hy\" data-test=\"product-price\">$150</div></div></div></div></div></div></figure></div></div><div class=\"product-card css-1ikfoht css-z5nr6i css-11ziap1 css-zk7jxt css-dpr2cn product-grid__card \" data-product-position=\"11\"><div class=\"product-card__body\" data-el-type=\"Card\"><figure><a class=\"product-card__link-overlay\" href=\"https://www.nike.com/t/air-force-1-sage-low-womens-shoe-CprflJ/AR5339-100\">Nike Air Force 1 Sage Low</a><a aria-label=\"Nike Air Force 1 Sage Low\" class=\"product-card__img-link-overlay\" data-el-type=\"Hero\" href=\"https://www.nike.com/t/air-force-1-sage-low-womens-shoe-CprflJ/AR5339-100\"><div class=\"image-loader css-zrrhrw product-card__hero-image \"><picture><source media=\"0\" srcset=\"\"/><source media=\"1\" srcset=\"\"/><source media=\"2\" srcset=\"\"/><img alt=\"Nike Air Force 1 Sage Low Women's Shoe\" loading=\"lazy\" src=\"data:image/gif;base64,R0lGODlhAQABAIAAAAAAAP///yH5BAEAAAAALAAAAAABAAEAAAIBRAA7\"/></picture></div></a><div class=\"product-card__info disable-animations\"><div class=\"\"><div class=\"product-card__titles\"><div class=\"product-card__title\" id=\"Nike Air Force 1 Sage Low\">Nike Air Force 1 Sage Low</div><div class=\"product-card__subtitle\">Women's Shoe</div></div></div><div class=\"product-card__count-wrapper false undefined\"><div class=\"product-card__count-item\"><button class=\"product-card__colorway-btn\" type=\"button\"><div aria-label=\"Available in 4 Colors\" class=\"product-card__product-count\"><span>4 Colors</span></div></button></div></div><div class=\"product-card__animation_wrapper\"><div class=\"product-card__price-wrapper\"><div class=\"product-card__price\"><div class=\"product-price__wrapper\"><div class=\"product-price css-11s12ax is--current-price\" data-test=\"product-price\">$100</div></div></div></div></div></div></figure></div></div><div class=\"product-card css-1ikfoht css-z5nr6i css-11ziap1 css-zk7jxt css-dpr2cn product-grid__card \" data-product-position=\"12\"><div class=\"product-card__body\" data-el-type=\"Card\"><figure><a class=\"product-card__link-overlay\" href=\"https://www.nike.com/t/blazer-mid-77-se-womens-shoe-MbVGjH/CZ4627-100\">Nike Blazer Mid '77 SE</a><a aria-label=\"Nike Blazer Mid '77 SE\" class=\"product-card__img-link-overlay\" data-el-type=\"Hero\" href=\"https://www.nike.com/t/blazer-mid-77-se-womens-shoe-MbVGjH/CZ4627-100\"><div class=\"image-loader css-zrrhrw product-card__hero-image \"><picture><source media=\"0\" srcset=\"\"/><source media=\"1\" srcset=\"\"/><source media=\"2\" srcset=\"\"/><img alt=\"Nike Blazer Mid '77 SE Women's Shoe\" loading=\"lazy\" src=\"data:image/gif;base64,R0lGODlhAQABAIAAAAAAAP///yH5BAEAAAAALAAAAAABAAEAAAIBRAA7\"/></picture></div></a><div class=\"product-card__info disable-animations\"><div class=\"\"><div class=\"product-card__titles\"><div class=\"product-card__title\" id=\"Nike Blazer Mid '77 SE\">Nike Blazer Mid '77 SE</div><div class=\"product-card__subtitle\">Women's Shoe</div></div></div><div class=\"product-card__count-wrapper false undefined\"><div class=\"product-card__count-item\"><button class=\"product-card__colorway-btn\" type=\"button\"><div aria-label=\"Available in 2 Colors\" class=\"product-card__product-count\"><span>2 Colors</span></div></button></div></div><div class=\"product-card__animation_wrapper\"><div class=\"product-card__price-wrapper\"><div class=\"product-card__price\"><div class=\"product-price__wrapper\"><div class=\"product-price css-11s12ax is--current-price\" data-test=\"product-price\">$110</div></div></div></div></div></div></figure></div></div><div class=\"product-card css-1ikfoht css-z5nr6i css-11ziap1 css-zk7jxt css-dpr2cn product-grid__card \" data-product-position=\"13\"><div class=\"product-card__body\" data-el-type=\"Card\"><figure><a class=\"product-card__link-overlay\" href=\"https://www.nike.com/t/air-vapormax-flyknit-3-womens-shoe-ZHCbvC/AJ6910-100\">Nike Air VaporMax Flyknit 3</a><a aria-label=\"Nike Air VaporMax Flyknit 3\" class=\"product-card__img-link-overlay\" data-el-type=\"Hero\" href=\"https://www.nike.com/t/air-vapormax-flyknit-3-womens-shoe-ZHCbvC/AJ6910-100\"><div class=\"image-loader css-zrrhrw product-card__hero-image \"><picture><source media=\"0\" srcset=\"\"/><source media=\"1\" srcset=\"\"/><source media=\"2\" srcset=\"\"/><img alt=\"Nike Air VaporMax Flyknit 3 Women's Shoe\" loading=\"lazy\" src=\"data:image/gif;base64,R0lGODlhAQABAIAAAAAAAP///yH5BAEAAAAALAAAAAABAAEAAAIBRAA7\"/></picture></div></a><div class=\"product-card__info disable-animations\"><div class=\"\"><div class=\"product-card__titles\"><div class=\"product-card__title\" id=\"Nike Air VaporMax Flyknit 3\">Nike Air VaporMax Flyknit 3</div><div class=\"product-card__subtitle\">Women's Shoe</div></div></div><div class=\"product-card__count-wrapper false undefined\"><div class=\"product-card__count-item\"><button class=\"product-card__colorway-btn\" type=\"button\"><div aria-label=\"Available in 6 Colors\" class=\"product-card__product-count\"><span>6 Colors</span></div></button></div></div><div class=\"product-card__animation_wrapper\"><div class=\"product-card__price-wrapper\"><div class=\"product-card__price\"><div class=\"product-price__wrapper\"><div class=\"product-price css-11s12ax is--current-price\" data-test=\"product-price\">$200</div></div></div></div></div></div></figure></div></div><div class=\"product-card css-1ikfoht css-z5nr6i css-11ziap1 css-zk7jxt css-dpr2cn product-grid__card \" data-product-position=\"14\"><div class=\"product-card__body\" data-el-type=\"Card\"><figure><a class=\"product-card__link-overlay\" href=\"https://www.nike.com/t/air-vapormax-360-womens-shoe-fQ3DBk/CQ4538-001\">Nike Air Vapormax 360</a><a aria-label=\"Nike Air Vapormax 360\" class=\"product-card__img-link-overlay\" data-el-type=\"Hero\" href=\"https://www.nike.com/t/air-vapormax-360-womens-shoe-fQ3DBk/CQ4538-001\"><div class=\"image-loader css-zrrhrw product-card__hero-image \"><picture><source media=\"0\" srcset=\"\"/><source media=\"1\" srcset=\"\"/><source media=\"2\" srcset=\"\"/><img alt=\"Nike Air Vapormax 360 Women's Shoe\" loading=\"lazy\" src=\"data:image/gif;base64,R0lGODlhAQABAIAAAAAAAP///yH5BAEAAAAALAAAAAABAAEAAAIBRAA7\"/></picture></div></a><div class=\"product-card__info disable-animations\"><div class=\"\"><div class=\"product-card__titles\"><div class=\"product-card__title\" id=\"Nike Air Vapormax 360\">Nike Air Vapormax 360</div><div class=\"product-card__subtitle\">Women's Shoe</div></div></div><div class=\"product-card__count-wrapper false undefined\"><div class=\"product-card__count-item\"><button class=\"product-card__colorway-btn\" type=\"button\"><div aria-label=\"Available in 7 Colors\" class=\"product-card__product-count\"><span>7 Colors</span></div></button></div></div><div class=\"product-card__animation_wrapper\"><div class=\"product-card__price-wrapper\"><div class=\"product-card__price\"><div class=\"product-price__wrapper\"><div class=\"product-price is--current-price css-s56yt7\" data-test=\"product-price-reduced\">$148.97</div><div class=\"product-price css-1h0t5hy\" data-test=\"product-price\">$225</div></div></div></div></div></div></figure></div></div><div class=\"product-card css-1ikfoht css-z5nr6i css-11ziap1 css-zk7jxt css-dpr2cn product-grid__card \" data-product-position=\"15\"><div class=\"product-card__body\" data-el-type=\"Card\"><figure><a class=\"product-card__link-overlay\" href=\"https://www.nike.com/t/air-max-90-womens-shoe-g5nqKN/CT1873-100\">Nike Air Max 90</a><a aria-label=\"Nike Air Max 90\" class=\"product-card__img-link-overlay\" data-el-type=\"Hero\" href=\"https://www.nike.com/t/air-max-90-womens-shoe-g5nqKN/CT1873-100\"><div class=\"image-loader css-zrrhrw product-card__hero-image \"><picture><source media=\"0\" srcset=\"\"/><source media=\"1\" srcset=\"\"/><source media=\"2\" srcset=\"\"/><img alt=\"Nike Air Max 90 Women's Shoe\" loading=\"lazy\" src=\"data:image/gif;base64,R0lGODlhAQABAIAAAAAAAP///yH5BAEAAAAALAAAAAABAAEAAAIBRAA7\"/></picture></div></a><div class=\"product-card__info disable-animations\"><div class=\"\"><div class=\"product-card__titles\"><div class=\"product-card__title\" id=\"Nike Air Max 90\">Nike Air Max 90</div><div class=\"product-card__subtitle\">Women's Shoe</div></div></div><div class=\"product-card__count-wrapper false undefined\"><div class=\"product-card__count-item\"><button class=\"product-card__colorway-btn\" type=\"button\"><div aria-label=\"Available in 13 Colors\" class=\"product-card__product-count\"><span>13 Colors</span></div></button></div></div><div class=\"product-card__animation_wrapper\"><div class=\"product-card__price-wrapper\"><div class=\"product-card__price\"><div class=\"product-price__wrapper\"><div class=\"product-price css-11s12ax is--current-price\" data-test=\"product-price\">$120</div></div></div></div></div></div></figure></div></div><div class=\"product-card css-1ikfoht css-z5nr6i css-11ziap1 css-zk7jxt css-dpr2cn product-grid__card \" data-product-position=\"16\"><div class=\"product-card__body\" data-el-type=\"Card\"><figure><a class=\"product-card__link-overlay\" href=\"https://www.nike.com/t/air-max-90-premium-womens-shoe-F2W2MJ/CT1891-500\">Nike Air Max 90 Premium</a><a aria-label=\"Nike Air Max 90 Premium\" class=\"product-card__img-link-overlay\" data-el-type=\"Hero\" href=\"https://www.nike.com/t/air-max-90-premium-womens-shoe-F2W2MJ/CT1891-500\"><div class=\"image-loader css-zrrhrw product-card__hero-image \"><picture><source media=\"0\" srcset=\"\"/><source media=\"1\" srcset=\"\"/><source media=\"2\" srcset=\"\"/><img alt=\"Nike Air Max 90 Premium Women's Shoe\" loading=\"lazy\" src=\"data:image/gif;base64,R0lGODlhAQABAIAAAAAAAP///yH5BAEAAAAALAAAAAABAAEAAAIBRAA7\"/></picture></div></a><div class=\"product-card__info disable-animations\"><div class=\"\"><div class=\"product-card__titles\"><div class=\"product-card__title\" id=\"Nike Air Max 90 Premium\">Nike Air Max 90 Premium</div><div class=\"product-card__subtitle\">Women's Shoe</div></div></div><div class=\"product-card__count-wrapper false undefined\"><div class=\"product-card__count-item\"><button class=\"product-card__colorway-btn\" type=\"button\"><div aria-label=\"Available in 2 Colors\" class=\"product-card__product-count\"><span>2 Colors</span></div></button></div></div><div class=\"product-card__animation_wrapper\"><div class=\"product-card__price-wrapper\"><div class=\"product-card__price\"><div class=\"product-price__wrapper\"><div class=\"product-price css-11s12ax is--current-price\" data-test=\"product-price\">$130</div></div></div></div></div></div></figure></div></div><div class=\"product-card css-1ikfoht css-z5nr6i css-11ziap1 css-zk7jxt css-dpr2cn product-grid__card \" data-product-position=\"17\"><div class=\"product-card__body\" data-el-type=\"Card\"><figure><a class=\"product-card__link-overlay\" href=\"https://www.nike.com/t/air-max-97-womens-shoe-XD9m01/CW6028-001\">Nike Air Max 97</a><a aria-label=\"Nike Air Max 97\" class=\"product-card__img-link-overlay\" data-el-type=\"Hero\" href=\"https://www.nike.com/t/air-max-97-womens-shoe-XD9m01/CW6028-001\"><div class=\"image-loader css-zrrhrw product-card__hero-image \"><picture><source media=\"0\" srcset=\"\"/><source media=\"1\" srcset=\"\"/><source media=\"2\" srcset=\"\"/><img alt=\"Nike Air Max 97 Women's Shoe\" loading=\"lazy\" src=\"data:image/gif;base64,R0lGODlhAQABAIAAAAAAAP///yH5BAEAAAAALAAAAAABAAEAAAIBRAA7\"/></picture></div></a><div class=\"product-card__info disable-animations\"><div class=\"\"><div class=\"product-card__titles\"><div class=\"product-card__title\" id=\"Nike Air Max 97\">Nike Air Max 97</div><div class=\"product-card__subtitle\">Women's Shoe</div></div></div><div class=\"product-card__count-wrapper false undefined\"><div class=\"product-card__count-item\"><button class=\"product-card__colorway-btn\" type=\"button\"><div aria-label=\"Available in 7 Colors\" class=\"product-card__product-count\"><span>7 Colors</span></div></button></div></div><div class=\"product-card__animation_wrapper\"><div class=\"product-card__price-wrapper\"><div class=\"product-card__price\"><div class=\"product-price__wrapper\"><div class=\"product-price css-11s12ax is--current-price\" data-test=\"product-price\">$170</div></div></div></div></div></div></figure></div></div><div class=\"product-card css-1ikfoht css-z5nr6i css-11ziap1 css-zk7jxt css-dpr2cn product-grid__card \" data-product-position=\"18\"><div class=\"product-card__body\" data-el-type=\"Card\"><figure><a class=\"product-card__link-overlay\" href=\"https://www.nike.com/t/waffle-racer-crater-womens-shoe-6MvdVq/CT1983-101\">Nike Waffle Racer Crater</a><a aria-label=\"Nike Waffle Racer Crater\" class=\"product-card__img-link-overlay\" data-el-type=\"Hero\" href=\"https://www.nike.com/t/waffle-racer-crater-womens-shoe-6MvdVq/CT1983-101\"><div class=\"image-loader css-zrrhrw product-card__hero-image \"><picture><source media=\"0\" srcset=\"\"/><source media=\"1\" srcset=\"\"/><source media=\"2\" srcset=\"\"/><img alt=\"Nike Waffle Racer Crater Women's Shoe\" loading=\"lazy\" src=\"data:image/gif;base64,R0lGODlhAQABAIAAAAAAAP///yH5BAEAAAAALAAAAAABAAEAAAIBRAA7\"/></picture></div></a><div class=\"product-card__info disable-animations\"><div class=\"\"><div class=\"product-card__titles\"><div class=\"product-card__title\" id=\"Nike Waffle Racer Crater\">Nike Waffle Racer Crater</div><div class=\"product-card__subtitle\">Women's Shoe</div></div></div><div class=\"product-card__count-wrapper false undefined\"><div class=\"product-card__count-item\"><button class=\"product-card__colorway-btn\" type=\"button\"><div aria-label=\"Available in 3 Colors\" class=\"product-card__product-count\"><span>3 Colors</span></div></button></div></div><div class=\"product-card__animation_wrapper\"><div class=\"product-card__price-wrapper\"><div class=\"product-card__price\"><div class=\"product-price__wrapper\"><div class=\"product-price css-11s12ax is--current-price\" data-test=\"product-price\">$100</div></div></div></div></div></div></figure></div></div><div class=\"product-card css-1ikfoht css-z5nr6i css-11ziap1 css-zk7jxt css-dpr2cn product-grid__card \" data-product-position=\"19\"><div class=\"product-card__body\" data-el-type=\"Card\"><figure><a class=\"product-card__link-overlay\" href=\"https://www.nike.com/t/waffle-racer-2x-womens-shoe-3LSStk/CK6647-601\">Nike Waffle Racer 2X</a><a aria-label=\"Nike Waffle Racer 2X\" class=\"product-card__img-link-overlay\" data-el-type=\"Hero\" href=\"https://www.nike.com/t/waffle-racer-2x-womens-shoe-3LSStk/CK6647-601\"><div class=\"image-loader css-zrrhrw product-card__hero-image \"><picture><source media=\"0\" srcset=\"\"/><source media=\"1\" srcset=\"\"/><source media=\"2\" srcset=\"\"/><img alt=\"Nike Waffle Racer 2X Women's Shoe\" loading=\"lazy\" src=\"data:image/gif;base64,R0lGODlhAQABAIAAAAAAAP///yH5BAEAAAAALAAAAAABAAEAAAIBRAA7\"/></picture></div></a><div class=\"product-card__info disable-animations\"><div class=\"\"><div class=\"product-card__titles\"><div class=\"product-card__title\" id=\"Nike Waffle Racer 2X\">Nike Waffle Racer 2X</div><div class=\"product-card__subtitle\">Women's Shoe</div></div></div><div class=\"product-card__count-wrapper false undefined\"><div class=\"product-card__count-item\"><button class=\"product-card__colorway-btn\" type=\"button\"><div aria-label=\"Available in 6 Colors\" class=\"product-card__product-count\"><span>6 Colors</span></div></button></div></div><div class=\"product-card__animation_wrapper\"><div class=\"product-card__price-wrapper\"><div class=\"product-card__price\"><div class=\"product-price__wrapper\"><div class=\"product-price css-11s12ax is--current-price\" data-test=\"product-price\">$100</div></div></div></div></div></div></figure></div></div><div class=\"product-card css-1ikfoht css-z5nr6i css-11ziap1 css-zk7jxt css-dpr2cn product-grid__card \" data-product-position=\"20\"><div class=\"product-card__body\" data-el-type=\"Card\"><figure><a class=\"product-card__link-overlay\" href=\"https://www.nike.com/t/blazer-mid-77-vintage-womens-shoe-25h71W/CZ1055-002\">Nike Blazer Mid '77 Vintage</a><a aria-label=\"Nike Blazer Mid '77 Vintage\" class=\"product-card__img-link-overlay\" data-el-type=\"Hero\" href=\"https://www.nike.com/t/blazer-mid-77-vintage-womens-shoe-25h71W/CZ1055-002\"><div class=\"image-loader css-zrrhrw product-card__hero-image \"><picture><source media=\"0\" srcset=\"\"/><source media=\"1\" srcset=\"\"/><source media=\"2\" srcset=\"\"/><img alt=\"Nike Blazer Mid '77 Vintage Women's Shoe\" loading=\"lazy\" src=\"data:image/gif;base64,R0lGODlhAQABAIAAAAAAAP///yH5BAEAAAAALAAAAAABAAEAAAIBRAA7\"/></picture></div></a><div class=\"product-card__info disable-animations\"><div class=\"\"><div class=\"product-card__titles\"><div class=\"product-card__title\" id=\"Nike Blazer Mid '77 Vintage\">Nike Blazer Mid '77 Vintage</div><div class=\"product-card__subtitle\">Women's Shoe</div></div></div><div class=\"product-card__count-wrapper false undefined\"><div class=\"product-card__count-item\"><button class=\"product-card__colorway-btn\" type=\"button\"><div aria-label=\"Available in 9 Colors\" class=\"product-card__product-count\"><span>9 Colors</span></div></button></div></div><div class=\"product-card__animation_wrapper\"><div class=\"product-card__price-wrapper\"><div class=\"product-card__price\"><div class=\"product-price__wrapper\"><div class=\"product-price css-11s12ax is--current-price\" data-test=\"product-price\">$100</div></div></div></div></div></div></figure></div></div><div class=\"product-card css-1ikfoht css-z5nr6i css-11ziap1 css-zk7jxt css-dpr2cn product-grid__card \" data-product-position=\"21\"><div class=\"product-card__body\" data-el-type=\"Card\"><figure><a class=\"product-card__link-overlay\" href=\"https://www.nike.com/t/air-zoom-pulse-shoe-xlmwMX/CT1629-002\">Nike Air Zoom Pulse</a><a aria-label=\"Nike Air Zoom Pulse\" class=\"product-card__img-link-overlay\" data-el-type=\"Hero\" href=\"https://www.nike.com/t/air-zoom-pulse-shoe-xlmwMX/CT1629-002\"><div class=\"image-loader css-zrrhrw product-card__hero-image \"><picture><source media=\"0\" srcset=\"\"/><source media=\"1\" srcset=\"\"/><source media=\"2\" srcset=\"\"/><img alt=\"Nike Air Zoom Pulse Shoe\" loading=\"lazy\" src=\"data:image/gif;base64,R0lGODlhAQABAIAAAAAAAP///yH5BAEAAAAALAAAAAABAAEAAAIBRAA7\"/></picture></div></a><div class=\"product-card__info for--product disable-animations\"><div class=\"\"><div class=\"product-card__messaging accent--color\">Just In</div><div class=\"product-card__titles\"><div class=\"product-card__title\" id=\"Nike Air Zoom Pulse\">Nike Air Zoom Pulse</div><div class=\"product-card__subtitle\">Shoe</div></div></div><div class=\"product-card__count-wrapper false undefined\"><div class=\"product-card__count-item\"><button class=\"product-card__colorway-btn\" type=\"button\"><div aria-label=\"Available in 3 Colors\" class=\"product-card__product-count\"><span>3 Colors</span></div></button></div></div><div class=\"product-card__animation_wrapper\"><div class=\"product-card__price-wrapper\"><div class=\"product-card__price\"><div class=\"product-price__wrapper\"><div class=\"product-price css-11s12ax is--current-price\" data-test=\"product-price\">$120</div></div></div></div></div></div></figure></div></div><div class=\"product-card css-1ikfoht css-z5nr6i css-11ziap1 css-zk7jxt css-dpr2cn product-grid__card \" data-product-position=\"22\"><div class=\"product-card__body\" data-el-type=\"Card\"><figure><a class=\"product-card__link-overlay\" href=\"https://www.nike.com/t/air-force-1-07-lx-womens-shoe-tjqgzL/CT1990-001\">Nike Air Force 1 '07 LX</a><a aria-label=\"Nike Air Force 1 '07 LX\" class=\"product-card__img-link-overlay\" data-el-type=\"Hero\" href=\"https://www.nike.com/t/air-force-1-07-lx-womens-shoe-tjqgzL/CT1990-001\"><div class=\"image-loader css-zrrhrw product-card__hero-image \"><picture><source media=\"0\" srcset=\"\"/><source media=\"1\" srcset=\"\"/><source media=\"2\" srcset=\"\"/><img alt=\"Nike Air Force 1 '07 LX Women's Shoe\" loading=\"lazy\" src=\"data:image/gif;base64,R0lGODlhAQABAIAAAAAAAP///yH5BAEAAAAALAAAAAABAAEAAAIBRAA7\"/></picture></div></a><div class=\"product-card__info disable-animations\"><div class=\"\"><div class=\"product-card__titles\"><div class=\"product-card__title\" id=\"Nike Air Force 1 '07 LX\">Nike Air Force 1 '07 LX</div><div class=\"product-card__subtitle\">Women's Shoe</div></div></div><div class=\"product-card__count-wrapper false undefined\"><div class=\"product-card__count-item\"><button class=\"product-card__colorway-btn\" type=\"button\"><div aria-label=\"Available in 1 Color\" class=\"product-card__product-count\"><span>1 Color</span></div></button></div></div><div class=\"product-card__animation_wrapper\"><div class=\"product-card__price-wrapper\"><div class=\"product-card__price\"><div class=\"product-price__wrapper\"><div class=\"product-price css-11s12ax is--current-price\" data-test=\"product-price\">$110</div></div></div></div></div></div></figure></div></div><div class=\"product-card css-1ikfoht css-z5nr6i css-11ziap1 css-zk7jxt css-dpr2cn product-grid__card \" data-product-position=\"23\"><div class=\"product-card__body\" data-el-type=\"Card\"><figure><a class=\"product-card__link-overlay\" href=\"https://www.nike.com/t/blazer-mid-77-infinite-womens-shoe-rl8L8B/DC1746-100\">Nike Blazer Mid '77 Infinite</a><a aria-label=\"Nike Blazer Mid '77 Infinite\" class=\"product-card__img-link-overlay\" data-el-type=\"Hero\" href=\"https://www.nike.com/t/blazer-mid-77-infinite-womens-shoe-rl8L8B/DC1746-100\"><div class=\"image-loader css-zrrhrw product-card__hero-image \"><picture><source media=\"0\" srcset=\"\"/><source media=\"1\" srcset=\"\"/><source media=\"2\" srcset=\"\"/><img alt=\"Nike Blazer Mid '77 Infinite Women's Shoe\" loading=\"lazy\" src=\"data:image/gif;base64,R0lGODlhAQABAIAAAAAAAP///yH5BAEAAAAALAAAAAABAAEAAAIBRAA7\"/></picture></div></a><div class=\"product-card__info disable-animations\"><div class=\"\"><div class=\"product-card__titles\"><div class=\"product-card__title\" id=\"Nike Blazer Mid '77 Infinite\">Nike Blazer Mid '77 Infinite</div><div class=\"product-card__subtitle\">Women's Shoe</div></div></div><div class=\"product-card__count-wrapper false undefined\"><div class=\"product-card__count-item\"><button class=\"product-card__colorway-btn\" type=\"button\"><div aria-label=\"Available in 2 Colors\" class=\"product-card__product-count\"><span>2 Colors</span></div></button></div></div><div class=\"product-card__animation_wrapper\"><div class=\"product-card__price-wrapper\"><div class=\"product-card__price\"><div class=\"product-price__wrapper\"><div class=\"product-price css-11s12ax is--current-price\" data-test=\"product-price\">$110</div></div></div></div></div></div></figure></div></div><div class=\"product-card css-1ikfoht css-z5nr6i css-11ziap1 css-zk7jxt css-dpr2cn product-grid__card \" data-product-position=\"24\"><div class=\"product-card__body\" data-el-type=\"Card\"><figure><a class=\"product-card__link-overlay\" href=\"https://www.nike.com/t/daybreak-womens-shoe-gB1tHp/CK2351-103\">Nike Daybreak</a><a aria-label=\"Nike Daybreak\" class=\"product-card__img-link-overlay\" data-el-type=\"Hero\" href=\"https://www.nike.com/t/daybreak-womens-shoe-gB1tHp/CK2351-103\"><div class=\"image-loader css-zrrhrw product-card__hero-image \"><picture><source media=\"0\" srcset=\"\"/><source media=\"1\" srcset=\"\"/><source media=\"2\" srcset=\"\"/><img alt=\"Nike Daybreak Women's Shoe\" loading=\"lazy\" src=\"data:image/gif;base64,R0lGODlhAQABAIAAAAAAAP///yH5BAEAAAAALAAAAAABAAEAAAIBRAA7\"/></picture></div></a><div class=\"product-card__info disable-animations\"><div class=\"\"><div class=\"product-card__titles\"><div class=\"product-card__title\" id=\"Nike Daybreak\">Nike Daybreak</div><div class=\"product-card__subtitle\">Women's Shoe</div></div></div><div class=\"product-card__count-wrapper false undefined\"><div class=\"product-card__count-item\"><button class=\"product-card__colorway-btn\" type=\"button\"><div aria-label=\"Available in 12 Colors\" class=\"product-card__product-count\"><span>12 Colors</span></div></button></div></div><div class=\"product-card__animation_wrapper\"><div class=\"product-card__price-wrapper\"><div class=\"product-card__price\"><div class=\"product-price__wrapper\"><div class=\"product-price css-11s12ax is--current-price\" data-test=\"product-price\">$90</div></div></div></div></div></div></figure></div></div><div class=\"product-card css-1ikfoht css-z5nr6i css-11ziap1 css-zk7jxt css-dpr2cn product-grid__card \" data-product-position=\"25\"><div class=\"product-card__body\" data-el-type=\"Card\"><figure><a class=\"product-card__link-overlay\" href=\"https://www.nike.com/t/air-max-up-womens-shoe-bL7qtj/CK7173-001\">Nike Air Max Up</a><a aria-label=\"Nike Air Max Up\" class=\"product-card__img-link-overlay\" data-el-type=\"Hero\" href=\"https://www.nike.com/t/air-max-up-womens-shoe-bL7qtj/CK7173-001\"><div class=\"image-loader css-zrrhrw product-card__hero-image \"><picture><source media=\"0\" srcset=\"\"/><source media=\"1\" srcset=\"\"/><source media=\"2\" srcset=\"\"/><img alt=\"Nike Air Max Up Women's Shoe\" loading=\"lazy\" src=\"data:image/gif;base64,R0lGODlhAQABAIAAAAAAAP///yH5BAEAAAAALAAAAAABAAEAAAIBRAA7\"/></picture></div></a><div class=\"product-card__info disable-animations\"><div class=\"\"><div class=\"product-card__titles\"><div class=\"product-card__title\" id=\"Nike Air Max Up\">Nike Air Max Up</div><div class=\"product-card__subtitle\">Women's Shoe</div></div></div><div class=\"product-card__count-wrapper false undefined\"><div class=\"product-card__count-item\"><button class=\"product-card__colorway-btn\" type=\"button\"><div aria-label=\"Available in 8 Colors\" class=\"product-card__product-count\"><span>8 Colors</span></div></button></div></div><div class=\"product-card__animation_wrapper\"><div class=\"product-card__price-wrapper\"><div class=\"product-card__price\"><div class=\"product-price__wrapper\"><div class=\"product-price css-11s12ax is--current-price\" data-test=\"product-price\">$130</div></div></div></div></div></div></figure></div></div><div class=\"css-13nhuez\"><div class=\"loader-overlay is--visible css-4nxgc2\"><div class=\"css-wtrpap\"></div></div></div></div>]\n"
     ]
    }
   ],
   "source": [
    "print(productlist)"
   ]
  },
  {
   "cell_type": "code",
   "execution_count": 58,
   "metadata": {},
   "outputs": [],
   "source": [
    "productlinks=[]"
   ]
  },
  {
   "cell_type": "code",
   "execution_count": 60,
   "metadata": {},
   "outputs": [
    {
     "name": "stdout",
     "output_type": "stream",
     "text": [
      "https://www.nike.com/w/cyber-monday-95xas\n",
      "https://www.nike.com/t/air-max-270-womens-shoe-Pgb94t/AH6789-601\n",
      "https://www.nike.com/t/air-max-270-womens-shoe-Pgb94t/AH6789-601\n",
      "https://www.nike.com/t/air-force-1-shadow-womens-shoe-kTgn9J/CU8591-100\n",
      "https://www.nike.com/t/air-force-1-shadow-womens-shoe-kTgn9J/CU8591-100\n",
      "https://www.nike.com/t/air-force-1-shadow-se-womens-shoe-sWkWmK/CT1985-500\n",
      "https://www.nike.com/t/air-force-1-shadow-se-womens-shoe-sWkWmK/CT1985-500\n",
      "https://www.nike.com/t/air-force-1-07-womens-shoe-KyTwDPGG/315115-112\n",
      "https://www.nike.com/t/air-force-1-07-womens-shoe-KyTwDPGG/315115-112\n",
      "https://www.nike.com/t/air-force-1-pixel-womens-shoe-gh10GN/CK6649-100\n",
      "https://www.nike.com/t/air-force-1-pixel-womens-shoe-gh10GN/CK6649-100\n",
      "https://www.nike.com/t/air-max-270-react-se-womens-shoe-trW1vK/CK6929-100\n",
      "https://www.nike.com/t/air-max-270-react-se-womens-shoe-trW1vK/CK6929-100\n",
      "https://www.nike.com/t/air-max-verona-womens-shoe-JF64LJ/CU7904-100\n",
      "https://www.nike.com/t/air-max-verona-womens-shoe-JF64LJ/CU7904-100\n",
      "https://www.nike.com/t/vista-lite-womens-shoe-f347DR/CI0905-001\n",
      "https://www.nike.com/t/vista-lite-womens-shoe-f347DR/CI0905-001\n",
      "https://www.nike.com/t/air-force-1-sp-womens-shoe-CsrVcC/CQ6566-001\n",
      "https://www.nike.com/t/air-force-1-sp-womens-shoe-CsrVcC/CQ6566-001\n",
      "https://www.nike.com/t/air-force-1-sage-low-womens-shoe-CprflJ/AR5339-100\n",
      "https://www.nike.com/t/air-force-1-sage-low-womens-shoe-CprflJ/AR5339-100\n",
      "https://www.nike.com/t/blazer-mid-77-se-womens-shoe-MbVGjH/CZ4627-100\n",
      "https://www.nike.com/t/blazer-mid-77-se-womens-shoe-MbVGjH/CZ4627-100\n",
      "https://www.nike.com/t/air-vapormax-flyknit-3-womens-shoe-ZHCbvC/AJ6910-100\n",
      "https://www.nike.com/t/air-vapormax-flyknit-3-womens-shoe-ZHCbvC/AJ6910-100\n",
      "https://www.nike.com/t/air-vapormax-360-womens-shoe-fQ3DBk/CQ4538-001\n",
      "https://www.nike.com/t/air-vapormax-360-womens-shoe-fQ3DBk/CQ4538-001\n",
      "https://www.nike.com/t/air-max-90-womens-shoe-g5nqKN/CT1873-100\n",
      "https://www.nike.com/t/air-max-90-womens-shoe-g5nqKN/CT1873-100\n",
      "https://www.nike.com/t/air-max-90-premium-womens-shoe-F2W2MJ/CT1891-500\n",
      "https://www.nike.com/t/air-max-90-premium-womens-shoe-F2W2MJ/CT1891-500\n",
      "https://www.nike.com/t/air-max-97-womens-shoe-XD9m01/CW6028-001\n",
      "https://www.nike.com/t/air-max-97-womens-shoe-XD9m01/CW6028-001\n",
      "https://www.nike.com/t/waffle-racer-crater-womens-shoe-6MvdVq/CT1983-101\n",
      "https://www.nike.com/t/waffle-racer-crater-womens-shoe-6MvdVq/CT1983-101\n",
      "https://www.nike.com/t/waffle-racer-2x-womens-shoe-3LSStk/CK6647-601\n",
      "https://www.nike.com/t/waffle-racer-2x-womens-shoe-3LSStk/CK6647-601\n",
      "https://www.nike.com/t/blazer-mid-77-vintage-womens-shoe-25h71W/CZ1055-002\n",
      "https://www.nike.com/t/blazer-mid-77-vintage-womens-shoe-25h71W/CZ1055-002\n",
      "https://www.nike.com/t/air-zoom-pulse-shoe-xlmwMX/CT1629-002\n",
      "https://www.nike.com/t/air-zoom-pulse-shoe-xlmwMX/CT1629-002\n",
      "https://www.nike.com/t/air-force-1-07-lx-womens-shoe-tjqgzL/CT1990-001\n",
      "https://www.nike.com/t/air-force-1-07-lx-womens-shoe-tjqgzL/CT1990-001\n",
      "https://www.nike.com/t/blazer-mid-77-infinite-womens-shoe-rl8L8B/DC1746-100\n",
      "https://www.nike.com/t/blazer-mid-77-infinite-womens-shoe-rl8L8B/DC1746-100\n",
      "https://www.nike.com/t/daybreak-womens-shoe-gB1tHp/CK2351-103\n",
      "https://www.nike.com/t/daybreak-womens-shoe-gB1tHp/CK2351-103\n",
      "https://www.nike.com/t/air-max-up-womens-shoe-bL7qtj/CK7173-001\n",
      "https://www.nike.com/t/air-max-up-womens-shoe-bL7qtj/CK7173-001\n"
     ]
    }
   ],
   "source": [
    "for item in productlist:\n",
    "    for link in item.find_all('a',href=True):\n",
    "          print(link['href'])"
   ]
  },
  {
   "cell_type": "code",
   "execution_count": 49,
   "metadata": {},
   "outputs": [],
   "source": [
    "productlinks=link['href']"
   ]
  },
  {
   "cell_type": "code",
   "execution_count": 50,
   "metadata": {},
   "outputs": [
    {
     "name": "stdout",
     "output_type": "stream",
     "text": [
      "63\n"
     ]
    }
   ],
   "source": [
    "print(len(productlinks))"
   ]
  },
  {
   "cell_type": "code",
   "execution_count": 14,
   "metadata": {},
   "outputs": [],
   "source": [
    "testlink=\"https://www.nike.com/t/air-max-270-react-womens-shoe-trW1vK/CJ0619-101\""
   ]
  },
  {
   "cell_type": "code",
   "execution_count": 17,
   "metadata": {},
   "outputs": [],
   "source": [
    "r=requests.get(testlink)"
   ]
  },
  {
   "cell_type": "code",
   "execution_count": 18,
   "metadata": {},
   "outputs": [],
   "source": [
    "soup= BeautifulSoup(r.content,\"lxml\")"
   ]
  },
  {
   "cell_type": "code",
   "execution_count": 19,
   "metadata": {},
   "outputs": [],
   "source": [
    "name=soup.find('h1',class_=\"headline-2 css-zis9ta\").text"
   ]
  },
  {
   "cell_type": "code",
   "execution_count": 25,
   "metadata": {},
   "outputs": [],
   "source": [
    "price=soup.find('div',class_=\"product-price is--current-price css-s56yt7\").text"
   ]
  },
  {
   "cell_type": "code",
   "execution_count": 26,
   "metadata": {},
   "outputs": [
    {
     "name": "stdout",
     "output_type": "stream",
     "text": [
      "Nike Air Max 270 React $97.97\n"
     ]
    }
   ],
   "source": [
    "print(name,price)#indiviual Product List"
   ]
  },
  {
   "cell_type": "code",
   "execution_count": 27,
   "metadata": {},
   "outputs": [],
   "source": [
    "shoes={\n",
    "    'name':name,\n",
    "    'price':price\n",
    "}"
   ]
  },
  {
   "cell_type": "code",
   "execution_count": 28,
   "metadata": {},
   "outputs": [
    {
     "name": "stdout",
     "output_type": "stream",
     "text": [
      "{'name': 'Nike Air Max 270 React', 'price': '$97.97'}\n"
     ]
    }
   ],
   "source": [
    "print(shoes)"
   ]
  },
  {
   "cell_type": "code",
   "execution_count": 71,
   "metadata": {},
   "outputs": [
    {
     "data": {
      "text/plain": [
       "12"
      ]
     },
     "execution_count": 71,
     "metadata": {},
     "output_type": "execute_result"
    }
   ],
   "source": [
    "filename= \"product.csv\"\n",
    "f=open(filename, \"w\")\n",
    "headers=\"Name, Price\\n\"\n",
    "f.write(headers)"
   ]
  },
  {
   "cell_type": "code",
   "execution_count": 72,
   "metadata": {},
   "outputs": [],
   "source": [
    "containers=soup.findAll(\"div\",{\"class\":\"product-card__body\"})"
   ]
  },
  {
   "cell_type": "code",
   "execution_count": 73,
   "metadata": {},
   "outputs": [
    {
     "name": "stdout",
     "output_type": "stream",
     "text": [
      "Shoes:Nike Air Max 270\n",
      "Price:150\n",
      "Shoes:Nike Air Force 1 Shadow\n",
      "Price:110\n",
      "Shoes:Nike Air Force 1 Shadow SE\n",
      "Price:110\n",
      "Shoes:Nike Air Force 1 '07\n",
      "Price:90\n",
      "Shoes:Nike Air Force 1 Pixel\n",
      "Price:100\n",
      "Shoes:Nike Air Max 270 React SE\n",
      "Price:170\n",
      "Shoes:Nike Air Max Verona\n",
      "Price:130\n",
      "Shoes:Nike Vista Lite\n",
      "Price:100\n",
      "Shoes:Nike Air Force 1 SP\n",
      "Price:150\n",
      "Shoes:Nike Air Force 1 Sage Low\n",
      "Price:100\n",
      "Shoes:Nike Blazer Mid '77 SE\n",
      "Price:110\n",
      "Shoes:Nike Air VaporMax Flyknit 3\n",
      "Price:200\n",
      "Shoes:Nike Air Vapormax 360\n",
      "Price:225\n",
      "Shoes:Nike Air Max 90\n",
      "Price:120\n",
      "Shoes:Nike Air Max 90 Premium\n",
      "Price:130\n",
      "Shoes:Nike Air Max 97\n",
      "Price:170\n",
      "Shoes:Nike Waffle Racer Crater\n",
      "Price:100\n",
      "Shoes:Nike Waffle Racer 2X\n",
      "Price:100\n",
      "Shoes:Nike Blazer Mid '77 Vintage\n",
      "Price:100\n",
      "Shoes:Nike Air Zoom Pulse\n",
      "Price:120\n",
      "Shoes:Nike Air Force 1 '07 LX\n",
      "Price:110\n",
      "Shoes:Nike Blazer Mid '77 Infinite\n",
      "Price:110\n",
      "Shoes:Nike Daybreak\n",
      "Price:90\n",
      "Shoes:Nike Air Max Up\n",
      "Price:130\n"
     ]
    }
   ],
   "source": [
    "for co in containers:\n",
    "    a=co.findAll('a',{\"class\":\"product-card__link-overlay\"})\n",
    "    Shoes=a[0].text\n",
    "    print(\"Shoes:\" +Shoes)\n",
    "    c=co.findAll('div',{\"data-test\":\"product-price\"})\n",
    "    cc=c[0].text\n",
    "    Price=cc.replace('$','')\n",
    "    print(\"Price:\"+Price)\n",
    "    f.write(Shoes + \",\"+Price+\"\\n\")\n",
    "f.close()"
   ]
  },
  {
   "cell_type": "code",
   "execution_count": 96,
   "metadata": {},
   "outputs": [],
   "source": [
    "targetprice=90"
   ]
  },
  {
   "cell_type": "code",
   "execution_count": 98,
   "metadata": {
    "scrolled": true
   },
   "outputs": [],
   "source": [
    "ShoePrice=float(Price)\n",
    "\n",
    "if (ShoePrice>targetprice):\n",
    "    send_email()"
   ]
  },
  {
   "cell_type": "code",
   "execution_count": 94,
   "metadata": {},
   "outputs": [],
   "source": [
    "#sending alerts for prices higher than target price\n",
    "import smtplib\n",
    "def send_email():\n",
    "\n",
    "    s=smtplib.SMTP('smtp.gmail.com',587)\n",
    "    s.ehlo()\n",
    "    s.starttls()\n",
    "    s.ehlo()\n",
    "    s.login('sender email','password')\n",
    "\n",
    "    message = \"Price is greater than targeted price\"\n",
    "\n",
    "    s.sendmail('sender email','receiver email',message)\n",
    "    s.quit"
   ]
  },
  {
   "cell_type": "code",
   "execution_count": null,
   "metadata": {},
   "outputs": [],
   "source": []
  }
 ],
 "metadata": {
  "kernelspec": {
   "display_name": "Python 3",
   "language": "python",
   "name": "python3"
  },
  "language_info": {
   "codemirror_mode": {
    "name": "ipython",
    "version": 3
   },
   "file_extension": ".py",
   "mimetype": "text/x-python",
   "name": "python",
   "nbconvert_exporter": "python",
   "pygments_lexer": "ipython3",
   "version": "3.7.0"
  }
 },
 "nbformat": 4,
 "nbformat_minor": 2
}
